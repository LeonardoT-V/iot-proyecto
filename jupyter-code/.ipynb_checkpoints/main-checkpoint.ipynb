{
 "cells": [
  {
   "cell_type": "markdown",
   "id": "89416d02-b04f-4eb5-955f-76bd347b27e7",
   "metadata": {},
   "source": [
    "### 1. Importar librerias necesarias para recuperar los datos de firebase"
   ]
  },
  {
   "cell_type": "code",
   "execution_count": 8,
   "id": "66c3baaa-1ed6-4c1e-84ab-445a68f50a24",
   "metadata": {},
   "outputs": [],
   "source": [
    "import firebase_admin\n",
    "from firebase_admin import credentials\n",
    "from firebase_admin import db"
   ]
  },
  {
   "cell_type": "markdown",
   "id": "5b821eba-1a67-4e11-b5df-7ff5ce3621da",
   "metadata": {},
   "source": [
    "### 2. Conectarse a la base de datos de firebase"
   ]
  },
  {
   "cell_type": "code",
   "execution_count": 9,
   "id": "8753ad8b-5f18-4ef3-bf98-245bc4edd563",
   "metadata": {},
   "outputs": [
    {
     "data": {
      "text/plain": [
       "<firebase_admin.App at 0x22cb126a690>"
      ]
     },
     "execution_count": 9,
     "metadata": {},
     "output_type": "execute_result"
    }
   ],
   "source": [
    "firebase_sdk = credentials.Certificate(\"iot-proyecto-57bb3-firebase-adminsdk-5ld0f-822ad9a8e8.json\")\n",
    "firebase_admin.initialize_app(firebase_sdk, {'databaseURL':'https://iot-proyecto-57bb3-default-rtdb.firebaseio.com'})"
   ]
  },
  {
   "cell_type": "markdown",
   "id": "4a57c937-dce0-491d-a29b-00dabe93b13c",
   "metadata": {},
   "source": [
    "### 3. Importar los datos de firebase realtime"
   ]
  },
  {
   "cell_type": "code",
   "execution_count": 11,
   "id": "f31f8246-e17f-42d3-a9a0-35f5a4d31cfd",
   "metadata": {},
   "outputs": [
    {
     "name": "stdout",
     "output_type": "stream",
     "text": [
      "{'1689051714': {'earth': 4, 'hum': 69, 'temp': 29.3}, '1689051729': {'earth': 3, 'hum': 69, 'temp': 29.3}, '1689051744': {'earth': 3, 'hum': 69, 'temp': 29.3}, '1689051774': {'earth': 3, 'hum': 69, 'temp': 29.3}, '1689051789': {'earth': 3, 'hum': 69, 'temp': 29.3}, '1689051804': {'earth': 3, 'hum': 69, 'temp': 29.3}, '1689051819': {'earth': 3, 'hum': 69, 'temp': 29.3}, '1689051834': {'earth': 4, 'hum': 69, 'temp': 29.3}, '1689051849': {'earth': 4, 'hum': 69, 'temp': 29.3}, '1689051864': {'earth': 100, 'hum': 69, 'temp': 29.3}, '1689051879': {'earth': 100, 'hum': 69, 'temp': 29.3}, '1689051894': {'earth': 3, 'hum': 69, 'temp': 29.3}, '1689054645': {'earth': 4, 'hum': 71, 'temp': 29.3}, '1689054660': {'earth': 4, 'hum': 71, 'temp': 29.3}, '1689054675': {'earth': 4, 'hum': 71, 'temp': 29.3}}\n"
     ]
    }
   ],
   "source": [
    "dbData = db.reference('metrica/')\n",
    "print(dbData.get())"
   ]
  },
  {
   "cell_type": "markdown",
   "id": "ea2b7b9f-c0e0-4e5e-a51d-31c3ab98a1a9",
   "metadata": {},
   "source": [
    "### 4. Formatear los datos a la estructura necesaria para realizar el modelo matematico"
   ]
  },
  {
   "cell_type": "code",
   "execution_count": 58,
   "id": "d57cc98e-91cc-46b7-a2b4-3475633ec412",
   "metadata": {},
   "outputs": [
    {
     "data": {
      "text/html": [
       "<div>\n",
       "<style scoped>\n",
       "    .dataframe tbody tr th:only-of-type {\n",
       "        vertical-align: middle;\n",
       "    }\n",
       "\n",
       "    .dataframe tbody tr th {\n",
       "        vertical-align: top;\n",
       "    }\n",
       "\n",
       "    .dataframe thead th {\n",
       "        text-align: right;\n",
       "    }\n",
       "</style>\n",
       "<table border=\"1\" class=\"dataframe\">\n",
       "  <thead>\n",
       "    <tr style=\"text-align: right;\">\n",
       "      <th></th>\n",
       "      <th>earth</th>\n",
       "      <th>hum</th>\n",
       "      <th>temp</th>\n",
       "    </tr>\n",
       "  </thead>\n",
       "  <tbody>\n",
       "    <tr>\n",
       "      <th>0</th>\n",
       "      <td>4</td>\n",
       "      <td>69</td>\n",
       "      <td>29.3</td>\n",
       "    </tr>\n",
       "    <tr>\n",
       "      <th>1</th>\n",
       "      <td>3</td>\n",
       "      <td>69</td>\n",
       "      <td>29.3</td>\n",
       "    </tr>\n",
       "    <tr>\n",
       "      <th>2</th>\n",
       "      <td>3</td>\n",
       "      <td>69</td>\n",
       "      <td>29.3</td>\n",
       "    </tr>\n",
       "    <tr>\n",
       "      <th>3</th>\n",
       "      <td>3</td>\n",
       "      <td>69</td>\n",
       "      <td>29.3</td>\n",
       "    </tr>\n",
       "    <tr>\n",
       "      <th>4</th>\n",
       "      <td>3</td>\n",
       "      <td>69</td>\n",
       "      <td>29.3</td>\n",
       "    </tr>\n",
       "    <tr>\n",
       "      <th>5</th>\n",
       "      <td>3</td>\n",
       "      <td>69</td>\n",
       "      <td>29.3</td>\n",
       "    </tr>\n",
       "    <tr>\n",
       "      <th>6</th>\n",
       "      <td>3</td>\n",
       "      <td>69</td>\n",
       "      <td>29.3</td>\n",
       "    </tr>\n",
       "    <tr>\n",
       "      <th>7</th>\n",
       "      <td>4</td>\n",
       "      <td>69</td>\n",
       "      <td>29.3</td>\n",
       "    </tr>\n",
       "    <tr>\n",
       "      <th>8</th>\n",
       "      <td>4</td>\n",
       "      <td>69</td>\n",
       "      <td>29.3</td>\n",
       "    </tr>\n",
       "    <tr>\n",
       "      <th>9</th>\n",
       "      <td>100</td>\n",
       "      <td>69</td>\n",
       "      <td>29.3</td>\n",
       "    </tr>\n",
       "  </tbody>\n",
       "</table>\n",
       "</div>"
      ],
      "text/plain": [
       "   earth  hum  temp\n",
       "0      4   69  29.3\n",
       "1      3   69  29.3\n",
       "2      3   69  29.3\n",
       "3      3   69  29.3\n",
       "4      3   69  29.3\n",
       "5      3   69  29.3\n",
       "6      3   69  29.3\n",
       "7      4   69  29.3\n",
       "8      4   69  29.3\n",
       "9    100   69  29.3"
      ]
     },
     "execution_count": 58,
     "metadata": {},
     "output_type": "execute_result"
    }
   ],
   "source": [
    "import numpy as np\n",
    "import pandas as pd\n",
    "\n",
    "# Convertir los datos de la firestore en un Objeto entendible para python\n",
    "db_data_object = dbData.get()\n",
    "\n",
    "# convertir los datos de firebase en un objeto de pandas\n",
    "data_sensores = pd.DataFrame(db_data_object.values())\n",
    "#data_sensores[\"hum\"].values\n",
    "\n",
    "# Mostrar los datos \n",
    "data_sensores.head(10)"
   ]
  },
  {
   "cell_type": "markdown",
   "id": "4c46e529-1714-4b70-9399-8b0d5d15d25f",
   "metadata": {},
   "source": [
    "### 5. Generar modelo de regresion lineal"
   ]
  },
  {
   "cell_type": "code",
   "execution_count": 78,
   "id": "b894265c-ada9-4ad0-8f1d-b4f97d68e77f",
   "metadata": {},
   "outputs": [
    {
     "name": "stdout",
     "output_type": "stream",
     "text": [
      "[[69]\n",
      " [69]\n",
      " [69]\n",
      " [69]\n",
      " [69]\n",
      " [69]\n",
      " [69]\n",
      " [69]\n",
      " [69]\n",
      " [69]\n",
      " [69]\n",
      " [69]\n",
      " [71]\n",
      " [71]\n",
      " [71]]\n"
     ]
    }
   ],
   "source": [
    "from sklearn.linear_model import LinearRegression\n",
    "hum_row = data_sensores[\"hum\"].values.reshape(-1, 1)\n",
    "temp_col = data_sensores[\"temp\"].values\n",
    "\n",
    "regresion_lineal = LinearRegression()\n",
    "\n",
    "regresion_lineal.fit(hum_row, temp_col)\n",
    "x_prediccion = hum_row\n",
    "y_prediccion = regresion_lineal.predict(hum_row)\n",
    "print(hum_row)"
   ]
  },
  {
   "cell_type": "markdown",
   "id": "0c060a5e-f058-407e-9b45-e675b8062bec",
   "metadata": {},
   "source": [
    "### 6. Grafico del modelo"
   ]
  },
  {
   "cell_type": "code",
   "execution_count": 82,
   "id": "6f92e437-8fc5-492b-bbde-055ea324009d",
   "metadata": {},
   "outputs": [
    {
     "data": {
      "image/png": "[encoded data removed]",
      "text/plain": [
       "<Figure size 640x480 with 1 Axes>"
      ]
     },
     "metadata": {},
     "output_type": "display_data"
    }
   ],
   "source": [
    "import matplotlib.pyplot as plt\n",
    "\n",
    "# COnfiguracion de la grafica y su muestra de los datos\n",
    "plt.scatter(hum_row, temp_col, label='Datos reales')\n",
    "plt.plot(hum_row, y_prediccion, color='red', label='Regresión lineal')\n",
    "plt.title('Regresión lineal - Leonardo Toro')\n",
    "plt.xlabel('humedad')\n",
    "plt.ylabel('temperatura')\n",
    "plt.legend()\n",
    "\n",
    "# Mostrar la imagen del modelo\n",
    "plt.show()\n"
   ]
  },
  {
   "cell_type": "code",
   "execution_count": null,
   "id": "31aaa17f-f3ea-47ba-891d-d95fc676d81a",
   "metadata": {},
   "outputs": [],
   "source": []
  }
 ],
 "metadata": {
  "kernelspec": {
   "display_name": "Python 3 (ipykernel)",
   "language": "python",
   "name": "python3"
  },
  "language_info": {
   "codemirror_mode": {
    "name": "ipython",
    "version": 3
   },
   "file_extension": ".py",
   "mimetype": "text/x-python",
   "name": "python",
   "nbconvert_exporter": "python",
   "pygments_lexer": "ipython3",
   "version": "3.11.4"
  }
 },
 "nbformat": 4,
 "nbformat_minor": 5
}
